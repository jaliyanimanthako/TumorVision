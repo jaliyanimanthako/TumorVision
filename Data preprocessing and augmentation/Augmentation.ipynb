{
  "nbformat": 4,
  "nbformat_minor": 0,
  "metadata": {
    "colab": {
      "provenance": []
    },
    "kernelspec": {
      "name": "python3",
      "display_name": "Python 3"
    },
    "language_info": {
      "name": "python"
    }
  },
  "cells": [
    {
      "cell_type": "code",
      "execution_count": 1,
      "metadata": {
        "id": "ps4jRZTofs_C"
      },
      "outputs": [],
      "source": [
        "import os\n",
        "import torch\n",
        "import numpy as np\n",
        "import torch.nn as nn\n",
        "from torchvision.transforms import transforms\n",
        "from torch.utils.data import DataLoader\n",
        "from torch.optim import Adam\n",
        "from torch.autograd import Variable\n",
        "import torchvision\n",
        "import pathlib\n",
        "import matplotlib.pyplot as plt\n",
        "import keras\n",
        "from keras.preprocessing.image import ImageDataGenerator\n",
        "import matplotlib.pyplot as plt\n",
        "import imutils\n",
        "import cv2\n",
        "import PIL.Image\n",
        "import os\n"
      ]
    },
    {
      "cell_type": "code",
      "source": [
        "def process_and_augment_images(input_dir, output_dir):\n",
        "    # Create output directory if it doesn't exist\n",
        "    if not os.path.exists(output_dir):\n",
        "        os.makedirs(output_dir)\n",
        "\n",
        "    # Image data generator for augmentation\n",
        "    datagen = ImageDataGenerator(\n",
        "        rotation_range=15,\n",
        "        width_shift_range=0.05,\n",
        "        height_shift_range=0.05,\n",
        "        rescale=1./255,\n",
        "        shear_range=0.05,\n",
        "        brightness_range=[0.1, 1.5],\n",
        "        horizontal_flip=True,\n",
        "        vertical_flip=True\n",
        "    )\n",
        "\n",
        "    for img_name in os.listdir(input_dir):\n",
        "        img_path = os.path.join(input_dir, img_name)\n",
        "        image = cv2.imread(img_path)\n",
        "\n",
        "        # Convert to grayscale and apply Gaussian blur\n",
        "        gray = cv2.cvtColor(image, cv2.COLOR_BGR2GRAY)\n",
        "        blurred = cv2.GaussianBlur(gray, (5, 5), 0)\n",
        "\n",
        "        # Thresholding, erosion, and dilation\n",
        "        thresh = cv2.threshold(blurred, 45, 255, cv2.THRESH_BINARY)[1]\n",
        "        thresh = cv2.erode(thresh, None, iterations=2)\n",
        "        thresh = cv2.dilate(thresh, None, iterations=2)\n",
        "\n",
        "        # Find contours and extract extreme points\n",
        "        cnts = cv2.findContours(thresh.copy(), cv2.RETR_EXTERNAL, cv2.CHAIN_APPROX_SIMPLE)\n",
        "        cnts = imutils.grab_contours(cnts)\n",
        "        c = max(cnts, key=cv2.contourArea)\n",
        "        extLeft = tuple(c[c[:, :, 0].argmin()][0])\n",
        "        extRight = tuple(c[c[:, :, 0].argmax()][0])\n",
        "        extTop = tuple(c[c[:, :, 1].argmin()][0])\n",
        "        extBot = tuple(c[c[:, :, 1].argmax()][0])\n",
        "\n",
        "        # Crop image based on extreme points\n",
        "        cropped_img = image[extTop[1]:extBot[1], extLeft[0]:extRight[0]]\n",
        "\n",
        "        # Reshape cropped image for augmentation\n",
        "        cropped_img = cv2.resize(cropped_img, (224, 224))\n",
        "\n",
        "        # Reshape cropped image for augmentation\n",
        "        cropped_img = cropped_img.reshape((1,) + cropped_img.shape)\n",
        "\n",
        "        # Generate augmented images and save to output directory\n",
        "        i = 0\n",
        "        for batch in datagen.flow(cropped_img, batch_size=1, save_to_dir=output_dir, save_prefix=img_name[:-4], save_format='jpg'):\n",
        "            i += 1\n",
        "            if i > 20:  # Generate 20 augmented images per input image\n",
        "                break\n"
      ],
      "metadata": {
        "id": "eUUmxG0DhFWs"
      },
      "execution_count": 2,
      "outputs": []
    },
    {
      "cell_type": "code",
      "source": [
        "def process_images(input_dir, output_dir):\n",
        "    # Create output directory if it doesn't exist\n",
        "    if not os.path.exists(output_dir):\n",
        "        os.makedirs(output_dir)\n",
        "\n",
        "    for img_name in os.listdir(input_dir):\n",
        "        img_path = os.path.join(input_dir, img_name)\n",
        "        image = cv2.imread(img_path)\n",
        "\n",
        "        # Convert to grayscale and apply Gaussian blur\n",
        "        gray = cv2.cvtColor(image, cv2.COLOR_BGR2GRAY)\n",
        "        blurred = cv2.GaussianBlur(gray, (5, 5), 0)\n",
        "\n",
        "        # Find contours and extract extreme points\n",
        "        _, thresh = cv2.threshold(blurred, 45, 255, cv2.THRESH_BINARY)\n",
        "        contours, _ = cv2.findContours(thresh, cv2.RETR_EXTERNAL, cv2.CHAIN_APPROX_SIMPLE)\n",
        "        contour = max(contours, key=cv2.contourArea)\n",
        "        x, y, w, h = cv2.boundingRect(contour)\n",
        "\n",
        "        # Crop image based on bounding box\n",
        "        cropped_img = image[y:y+h, x:x+w]\n",
        "\n",
        "        # Save cropped image\n",
        "        output_path = os.path.join(output_dir, img_name)\n",
        "        cv2.imwrite(output_path, cropped_img)\n"
      ],
      "metadata": {
        "id": "DbUV_2fVhIqe"
      },
      "execution_count": 3,
      "outputs": []
    },
    {
      "cell_type": "code",
      "source": [
        "#Transforms\n",
        "transformer_train = transforms.Compose([\n",
        "    transforms.Resize((224,224)),\n",
        "    transforms.ToTensor(),\n",
        "    transforms.Normalize([0.5,0.5,0.5],\n",
        "                        [0.5,0.5,0.5])\n",
        "])\n",
        "\n",
        "transformer_test = transforms.Compose([\n",
        "    transforms.Resize((224,224)),\n",
        "    transforms.ToTensor(),\n",
        "    transforms.Normalize([0.5,0.5,0.5],\n",
        "                        [0.5,0.5,0.5])\n",
        "])\n"
      ],
      "metadata": {
        "id": "4SVvkh6OhNTW"
      },
      "execution_count": 4,
      "outputs": []
    },
    {
      "cell_type": "code",
      "source": [],
      "metadata": {
        "id": "gtEEsl16hS7Q"
      },
      "execution_count": null,
      "outputs": []
    }
  ]
}